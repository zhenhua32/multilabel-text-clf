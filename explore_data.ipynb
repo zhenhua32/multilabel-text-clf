{
 "cells": [
  {
   "cell_type": "code",
   "execution_count": 1,
   "metadata": {},
   "outputs": [],
   "source": [
    "import os\n",
    "import json\n",
    "import pandas as pd"
   ]
  },
  {
   "cell_type": "code",
   "execution_count": 4,
   "metadata": {},
   "outputs": [
    {
     "name": "stdout",
     "output_type": "stream",
     "text": [
      "train (7769, 3)\n",
      "test (3019, 3)\n"
     ]
    }
   ],
   "source": [
    "train_df = pd.read_json(\"./multi_label_data/reuters/train_data.json\")\n",
    "test_df = pd.read_json(\"./multi_label_data/reuters/test_data.json\")\n",
    "print(\"train\", train_df.shape)\n",
    "print(\"test\", test_df.shape)"
   ]
  },
  {
   "cell_type": "code",
   "execution_count": 14,
   "metadata": {},
   "outputs": [
    {
     "data": {
      "text/plain": [
       "count    7769.000000\n",
       "mean      779.838332\n",
       "std       836.853006\n",
       "min        23.000000\n",
       "25%       251.000000\n",
       "50%       510.000000\n",
       "75%       988.000000\n",
       "max      8491.000000\n",
       "Name: text_len, dtype: float64"
      ]
     },
     "execution_count": 14,
     "metadata": {},
     "output_type": "execute_result"
    }
   ],
   "source": [
    "train_df[\"text_len\"] = train_df[\"text\"].str.len()\n",
    "train_df[\"text_len\"].describe()"
   ]
  },
  {
   "cell_type": "code",
   "execution_count": 9,
   "metadata": {},
   "outputs": [
    {
     "data": {
      "text/html": [
       "<div>\n",
       "<style scoped>\n",
       "    .dataframe tbody tr th:only-of-type {\n",
       "        vertical-align: middle;\n",
       "    }\n",
       "\n",
       "    .dataframe tbody tr th {\n",
       "        vertical-align: top;\n",
       "    }\n",
       "\n",
       "    .dataframe thead th {\n",
       "        text-align: right;\n",
       "    }\n",
       "</style>\n",
       "<table border=\"1\" class=\"dataframe\">\n",
       "  <thead>\n",
       "    <tr style=\"text-align: right;\">\n",
       "      <th></th>\n",
       "      <th>id</th>\n",
       "      <th>text</th>\n",
       "      <th>labels</th>\n",
       "      <th>text_len</th>\n",
       "    </tr>\n",
       "  </thead>\n",
       "  <tbody>\n",
       "    <tr>\n",
       "      <th>0</th>\n",
       "      <td>training/1</td>\n",
       "      <td>BAHIA COCOA REVIEW Showers continued throughou...</td>\n",
       "      <td>[cocoa]</td>\n",
       "      <td>2806</td>\n",
       "    </tr>\n",
       "    <tr>\n",
       "      <th>1</th>\n",
       "      <td>training/10</td>\n",
       "      <td>COMPUTER TERMINAL SYSTEMS &amp;lt;CPML&gt; COMPLETES ...</td>\n",
       "      <td>[acq]</td>\n",
       "      <td>1312</td>\n",
       "    </tr>\n",
       "    <tr>\n",
       "      <th>2</th>\n",
       "      <td>training/100</td>\n",
       "      <td>N.Z. TRADING BANK DEPOSIT GROWTH RISES SLIGHTL...</td>\n",
       "      <td>[money-supply]</td>\n",
       "      <td>511</td>\n",
       "    </tr>\n",
       "    <tr>\n",
       "      <th>3</th>\n",
       "      <td>training/1000</td>\n",
       "      <td>NATIONAL AMUSEMENTS AGAIN UPS VIACOM &amp;lt;VIA&gt; ...</td>\n",
       "      <td>[acq]</td>\n",
       "      <td>766</td>\n",
       "    </tr>\n",
       "    <tr>\n",
       "      <th>4</th>\n",
       "      <td>training/10000</td>\n",
       "      <td>ROGERS &amp;lt;ROG&gt; SEES 1ST QTR NET UP SIGNIFICAN...</td>\n",
       "      <td>[earn]</td>\n",
       "      <td>558</td>\n",
       "    </tr>\n",
       "    <tr>\n",
       "      <th>...</th>\n",
       "      <td>...</td>\n",
       "      <td>...</td>\n",
       "      <td>...</td>\n",
       "      <td>...</td>\n",
       "    </tr>\n",
       "    <tr>\n",
       "      <th>7764</th>\n",
       "      <td>training/999</td>\n",
       "      <td>U.K. MONEY MARKET SHORTAGE FORECAST REVISED DO...</td>\n",
       "      <td>[interest, money-fx]</td>\n",
       "      <td>267</td>\n",
       "    </tr>\n",
       "    <tr>\n",
       "      <th>7765</th>\n",
       "      <td>training/9992</td>\n",
       "      <td>KNIGHT-RIDDER INC &amp;lt;KRN&gt; SETS QUARTERLY Qtly...</td>\n",
       "      <td>[earn]</td>\n",
       "      <td>103</td>\n",
       "    </tr>\n",
       "    <tr>\n",
       "      <th>7766</th>\n",
       "      <td>training/9993</td>\n",
       "      <td>TECHNITROL INC &amp;lt;TNL&gt; SETS QUARTERLY Qtly di...</td>\n",
       "      <td>[earn]</td>\n",
       "      <td>102</td>\n",
       "    </tr>\n",
       "    <tr>\n",
       "      <th>7767</th>\n",
       "      <td>training/9994</td>\n",
       "      <td>NATIONWIDE CELLULAR SERVICE INC &amp;lt;NCEL&gt; 4TH ...</td>\n",
       "      <td>[earn]</td>\n",
       "      <td>297</td>\n",
       "    </tr>\n",
       "    <tr>\n",
       "      <th>7768</th>\n",
       "      <td>training/9995</td>\n",
       "      <td>&amp;lt;A.H.A. AUTOMOTIVE TECHNOLOGIES CORP&gt; YEAR ...</td>\n",
       "      <td>[earn]</td>\n",
       "      <td>152</td>\n",
       "    </tr>\n",
       "  </tbody>\n",
       "</table>\n",
       "<p>7769 rows × 4 columns</p>\n",
       "</div>"
      ],
      "text/plain": [
       "                  id                                               text  \\\n",
       "0         training/1  BAHIA COCOA REVIEW Showers continued throughou...   \n",
       "1        training/10  COMPUTER TERMINAL SYSTEMS &lt;CPML> COMPLETES ...   \n",
       "2       training/100  N.Z. TRADING BANK DEPOSIT GROWTH RISES SLIGHTL...   \n",
       "3      training/1000  NATIONAL AMUSEMENTS AGAIN UPS VIACOM &lt;VIA> ...   \n",
       "4     training/10000  ROGERS &lt;ROG> SEES 1ST QTR NET UP SIGNIFICAN...   \n",
       "...              ...                                                ...   \n",
       "7764    training/999  U.K. MONEY MARKET SHORTAGE FORECAST REVISED DO...   \n",
       "7765   training/9992  KNIGHT-RIDDER INC &lt;KRN> SETS QUARTERLY Qtly...   \n",
       "7766   training/9993  TECHNITROL INC &lt;TNL> SETS QUARTERLY Qtly di...   \n",
       "7767   training/9994  NATIONWIDE CELLULAR SERVICE INC &lt;NCEL> 4TH ...   \n",
       "7768   training/9995  &lt;A.H.A. AUTOMOTIVE TECHNOLOGIES CORP> YEAR ...   \n",
       "\n",
       "                    labels  text_len  \n",
       "0                  [cocoa]      2806  \n",
       "1                    [acq]      1312  \n",
       "2           [money-supply]       511  \n",
       "3                    [acq]       766  \n",
       "4                   [earn]       558  \n",
       "...                    ...       ...  \n",
       "7764  [interest, money-fx]       267  \n",
       "7765                [earn]       103  \n",
       "7766                [earn]       102  \n",
       "7767                [earn]       297  \n",
       "7768                [earn]       152  \n",
       "\n",
       "[7769 rows x 4 columns]"
      ]
     },
     "execution_count": 9,
     "metadata": {},
     "output_type": "execute_result"
    }
   ],
   "source": [
    "train_df"
   ]
  }
 ],
 "metadata": {
  "kernelspec": {
   "display_name": "Python 3.8.12 ('nlp')",
   "language": "python",
   "name": "python3"
  },
  "language_info": {
   "codemirror_mode": {
    "name": "ipython",
    "version": 3
   },
   "file_extension": ".py",
   "mimetype": "text/x-python",
   "name": "python",
   "nbconvert_exporter": "python",
   "pygments_lexer": "ipython3",
   "version": "3.8.12"
  },
  "orig_nbformat": 4,
  "vscode": {
   "interpreter": {
    "hash": "b7c70413a5810a6397efd487546398fda6db6fc006e875c25a748979a67c1938"
   }
  }
 },
 "nbformat": 4,
 "nbformat_minor": 2
}
