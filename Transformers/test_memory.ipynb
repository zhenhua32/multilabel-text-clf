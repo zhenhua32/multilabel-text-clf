{
 "cells": [
  {
   "cell_type": "code",
   "execution_count": 1,
   "metadata": {},
   "outputs": [],
   "source": [
    "from memory_profiler import memory_usage, profile"
   ]
  },
  {
   "cell_type": "code",
   "execution_count": 2,
   "metadata": {},
   "outputs": [],
   "source": [
    "# region 导入模块\n",
    "\n",
    "import json\n",
    "import logging\n",
    "import warnings\n",
    "\n",
    "import matplotlib.pyplot as plt\n",
    "import numpy as np\n",
    "import pandas as pd\n",
    "import torch\n",
    "import transformers\n",
    "from sklearn import metrics\n",
    "from sklearn.preprocessing import MultiLabelBinarizer\n",
    "from torch import cuda\n",
    "from torch.utils.data import DataLoader, Dataset, RandomSampler, SequentialSampler\n",
    "from tqdm import tqdm\n",
    "from transformers import BertConfig, BertModel, BertTokenizer, DistilBertModel, DistilBertTokenizer\n",
    "\n",
    "import wandb\n",
    "\n",
    "logging.basicConfig(level=logging.ERROR)\n",
    "warnings.simplefilter(\"ignore\")\n",
    "\n",
    "# endregion\n"
   ]
  },
  {
   "cell_type": "code",
   "execution_count": 3,
   "metadata": {},
   "outputs": [
    {
     "data": {
      "text/plain": [
       "[341.78125, 341.78125, 341.78125, 341.78125, 341.78125]"
      ]
     },
     "execution_count": 3,
     "metadata": {},
     "output_type": "execute_result"
    }
   ],
   "source": [
    "memory_usage(-1, interval=.2, timeout=1)"
   ]
  },
  {
   "cell_type": "code",
   "execution_count": 4,
   "metadata": {},
   "outputs": [],
   "source": [
    "train_file = \"../multi_label_data/econbiz/train_data.json\"\n",
    "test_file = \"../multi_label_data/econbiz/test_data.json\"\n",
    "with open(train_file, \"r\", encoding=\"utf-8\") as f:\n",
    "    train_df = pd.DataFrame(json.load(f))\n",
    "with open(test_file, \"r\", encoding=\"utf-8\") as f:\n",
    "    test_df = pd.DataFrame(json.load(f))\n",
    "\n",
    "keep_cols = [\"text\", \"labels\"]\n",
    "train_df = train_df[keep_cols]\n",
    "test_df = test_df[keep_cols]"
   ]
  },
  {
   "cell_type": "code",
   "execution_count": 41,
   "metadata": {},
   "outputs": [
    {
     "data": {
      "text/plain": [
       "'Below-replacement fertility in industrial societies : causes, consequences, policies ; based on papers presented at a seminar held at the Hoover Institution, Stanford University, November 1985'"
      ]
     },
     "execution_count": 41,
     "metadata": {},
     "output_type": "execute_result"
    }
   ],
   "source": [
    "train_df[\"text\"][2]"
   ]
  },
  {
   "cell_type": "code",
   "execution_count": 10,
   "metadata": {},
   "outputs": [
    {
     "data": {
      "text/plain": [
       "MultiLabelBinarizer()"
      ]
     },
     "execution_count": 10,
     "metadata": {},
     "output_type": "execute_result"
    }
   ],
   "source": [
    "label_encoder = MultiLabelBinarizer()\n",
    "label_encoder.fit(train_df[\"labels\"])"
   ]
  },
  {
   "cell_type": "code",
   "execution_count": 31,
   "metadata": {},
   "outputs": [
    {
     "data": {
      "text/plain": [
       "['11271-0', '15912-3', '17983-5']"
      ]
     },
     "execution_count": 31,
     "metadata": {},
     "output_type": "execute_result"
    }
   ],
   "source": [
    "train_df[\"labels\"][0]"
   ]
  },
  {
   "cell_type": "code",
   "execution_count": 36,
   "metadata": {},
   "outputs": [
    {
     "data": {
      "text/plain": [
       "(5658,)"
      ]
     },
     "execution_count": 36,
     "metadata": {},
     "output_type": "execute_result"
    }
   ],
   "source": [
    "label_encoder.transform([['11271-0', '15912-3', '17983-5']])[0].shape"
   ]
  },
  {
   "cell_type": "code",
   "execution_count": 23,
   "metadata": {},
   "outputs": [],
   "source": [
    "test_labels_enc = label_encoder.transform(train_df.iloc[:100][\"labels\"])"
   ]
  },
  {
   "cell_type": "code",
   "execution_count": 30,
   "metadata": {},
   "outputs": [
    {
     "data": {
      "text/plain": [
       "array([0, 0, 0, ..., 0, 0, 0])"
      ]
     },
     "execution_count": 30,
     "metadata": {},
     "output_type": "execute_result"
    }
   ],
   "source": [
    "test_labels_enc[0]"
   ]
  },
  {
   "cell_type": "code",
   "execution_count": 5,
   "metadata": {},
   "outputs": [
    {
     "name": "stdout",
     "output_type": "stream",
     "text": [
      "(994015, 2)\n",
      "Index       0.000122\n",
      "text      123.281032\n",
      "labels     89.671364\n",
      "dtype: float64\n",
      "(70619, 2)\n",
      "Index     0.000122\n",
      "text      8.959422\n",
      "labels    6.947754\n",
      "dtype: float64\n"
     ]
    }
   ],
   "source": [
    "print(train_df.shape)\n",
    "print(train_df.memory_usage(deep=True) / 1024 / 1024)\n",
    "\n",
    "print(test_df.shape)\n",
    "print(test_df.memory_usage(deep=True) / 1024 / 1024)"
   ]
  },
  {
   "cell_type": "code",
   "execution_count": 6,
   "metadata": {},
   "outputs": [
    {
     "data": {
      "text/plain": [
       "[1210.62109375, 1210.62109375, 1210.62109375, 1210.62109375, 1210.62109375]"
      ]
     },
     "execution_count": 6,
     "metadata": {},
     "output_type": "execute_result"
    }
   ],
   "source": [
    "memory_usage(-1, interval=.2, timeout=1)"
   ]
  },
  {
   "cell_type": "code",
   "execution_count": 7,
   "metadata": {},
   "outputs": [],
   "source": [
    "# 这一步花了太多内存了, 最后创建的矩阵太大了 维度大约是 (100w, 5658), 暴涨 10 GB 内存\n",
    "label_encoder = MultiLabelBinarizer()\n",
    "label_encoder.fit(train_df[\"labels\"].to_numpy())\n",
    "train_labels_enc = label_encoder.transform(train_df[\"labels\"].to_numpy())\n",
    "test_labels_enc = label_encoder.transform(test_df[\"labels\"].to_numpy())"
   ]
  },
  {
   "cell_type": "code",
   "execution_count": 8,
   "metadata": {},
   "outputs": [
    {
     "data": {
      "text/plain": [
       "[12739.66796875,\n",
       " 12739.66796875,\n",
       " 12739.66796875,\n",
       " 12739.66796875,\n",
       " 12739.66796875]"
      ]
     },
     "execution_count": 8,
     "metadata": {},
     "output_type": "execute_result"
    }
   ],
   "source": [
    "memory_usage(-1, interval=.2, timeout=1)"
   ]
  },
  {
   "cell_type": "code",
   "execution_count": 9,
   "metadata": {},
   "outputs": [
    {
     "name": "stdout",
     "output_type": "stream",
     "text": [
      "<class 'numpy.ndarray'>\n",
      "int32\n",
      "(994015, 5658)\n",
      "21454.379539489746\n"
     ]
    }
   ],
   "source": [
    "print(type(train_labels_enc))\n",
    "print(train_labels_enc.dtype)\n",
    "print(train_labels_enc.shape)\n",
    "print(train_labels_enc.nbytes / 1024 / 1024)"
   ]
  },
  {
   "cell_type": "code",
   "execution_count": 10,
   "metadata": {},
   "outputs": [],
   "source": [
    "train_labels_enc = train_labels_enc.astype(np.int8, copy=False)\n",
    "test_labels_enc = test_labels_enc.astype(np.int8, copy=False)"
   ]
  },
  {
   "cell_type": "code",
   "execution_count": 11,
   "metadata": {},
   "outputs": [
    {
     "data": {
      "text/plain": [
       "[6956.40234375, 6956.40234375, 6956.40234375, 6956.40234375, 6956.40234375]"
      ]
     },
     "execution_count": 11,
     "metadata": {},
     "output_type": "execute_result"
    }
   ],
   "source": [
    "memory_usage(-1, interval=.2, timeout=1)"
   ]
  },
  {
   "cell_type": "code",
   "execution_count": null,
   "metadata": {},
   "outputs": [],
   "source": [
    "# 这个操作也要内存爆炸了\n",
    "# train_df[\"labels\"] = train_labels_enc.tolist()\n",
    "# test_df[\"labels\"] = test_labels_enc.tolist()"
   ]
  },
  {
   "cell_type": "code",
   "execution_count": 13,
   "metadata": {},
   "outputs": [],
   "source": [
    "train_df[\"labels\"] = list(map(lambda x: np.squeeze(x), np.split(train_labels_enc, train_labels_enc.shape[0])))\n",
    "test_df[\"labels\"] = list(map(lambda x: np.squeeze(x), np.split(test_labels_enc, test_labels_enc.shape[0])))"
   ]
  },
  {
   "cell_type": "code",
   "execution_count": 14,
   "metadata": {},
   "outputs": [
    {
     "data": {
      "text/plain": [
       "[7012.671875, 7012.671875, 7012.671875, 7012.671875, 7012.671875]"
      ]
     },
     "execution_count": 14,
     "metadata": {},
     "output_type": "execute_result"
    }
   ],
   "source": [
    "memory_usage(-1, interval=.2, timeout=1)"
   ]
  },
  {
   "cell_type": "code",
   "execution_count": 29,
   "metadata": {},
   "outputs": [],
   "source": [
    "a = np.array([]).reshape(0, 4)\n",
    "b = np.arange(12).reshape(3, 4)\n",
    "c = np.arange(16).reshape(4, 4)"
   ]
  },
  {
   "cell_type": "code",
   "execution_count": 31,
   "metadata": {},
   "outputs": [
    {
     "data": {
      "text/plain": [
       "array([[ 0.,  1.,  2.,  3.],\n",
       "       [ 4.,  5.,  6.,  7.],\n",
       "       [ 8.,  9., 10., 11.]])"
      ]
     },
     "execution_count": 31,
     "metadata": {},
     "output_type": "execute_result"
    }
   ],
   "source": [
    "np.concatenate([a, b], axis=0)"
   ]
  }
 ],
 "metadata": {
  "kernelspec": {
   "display_name": "Python 3.8.12 ('nlp')",
   "language": "python",
   "name": "python3"
  },
  "language_info": {
   "codemirror_mode": {
    "name": "ipython",
    "version": 3
   },
   "file_extension": ".py",
   "mimetype": "text/x-python",
   "name": "python",
   "nbconvert_exporter": "python",
   "pygments_lexer": "ipython3",
   "version": "3.8.12"
  },
  "orig_nbformat": 4,
  "vscode": {
   "interpreter": {
    "hash": "b7c70413a5810a6397efd487546398fda6db6fc006e875c25a748979a67c1938"
   }
  }
 },
 "nbformat": 4,
 "nbformat_minor": 2
}
